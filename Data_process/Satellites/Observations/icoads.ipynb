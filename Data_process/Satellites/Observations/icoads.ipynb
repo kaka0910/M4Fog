{
 "cells": [
  {
   "cell_type": "code",
   "execution_count": 12,
   "metadata": {},
   "outputs": [],
   "source": [
    "import os\n",
    "import pandas as pd\n",
    "import numpy as np"
   ]
  },
  {
   "cell_type": "code",
   "execution_count": 25,
   "metadata": {},
   "outputs": [
    {
     "name": "stdout",
     "output_type": "stream",
     "text": [
      "The length of selected data :  102\n",
      "The length of icoads data :  41\n"
     ]
    }
   ],
   "source": [
    "# 选取的时间点，格式是: YYYYMMDD_hhmm\n",
    "ids = [x.split('.')[0] for x in os.listdir('/nas2/data/users/xmq/seafog_H8_17x/val_2021/') if x.split('.')[-1]=='npy' and '202103' in x] # 请修改文件地址\n",
    "print(\"The length of selected data : \", len(ids))\n",
    "\n",
    "icoads_path = '/nas2/data/users/xmq/M4Fog/Data_process/Observations/icoads_gz/'  # ICOADS存储地址\n",
    "gzs = os.listdir(icoads_path)\n",
    "print(\"The length of icoads data : \", len(gzs))"
   ]
  },
  {
   "cell_type": "code",
   "execution_count": 20,
   "metadata": {},
   "outputs": [
    {
     "name": "stdout",
     "output_type": "stream",
     "text": [
      "2021 05 20 03 00 3.0\n"
     ]
    },
    {
     "name": "stderr",
     "output_type": "stream",
     "text": [
      "/tmp/ipykernel_72874/462569046.py:34: SettingWithCopyWarning: \n",
      "A value is trying to be set on a copy of a slice from a DataFrame.\n",
      "Try using .loc[row_indexer,col_indexer] = value instead\n",
      "\n",
      "See the caveats in the documentation: https://pandas.pydata.org/pandas-docs/stable/user_guide/indexing.html#returning-a-view-versus-a-copy\n",
      "  data['VV_WW_label'] = np.where((data['VV'] <= 94) & (data['WW'] < 60), 1, 0)  # 雾的筛选条件\n"
     ]
    },
    {
     "name": "stdout",
     "output_type": "stream",
     "text": [
      "2021 05 30 06 30 6.5\n",
      "2021 05 09 05 30 5.5\n",
      "2021 05 30 03 00 3.0\n"
     ]
    },
    {
     "name": "stderr",
     "output_type": "stream",
     "text": [
      "/tmp/ipykernel_72874/462569046.py:34: SettingWithCopyWarning: \n",
      "A value is trying to be set on a copy of a slice from a DataFrame.\n",
      "Try using .loc[row_indexer,col_indexer] = value instead\n",
      "\n",
      "See the caveats in the documentation: https://pandas.pydata.org/pandas-docs/stable/user_guide/indexing.html#returning-a-view-versus-a-copy\n",
      "  data['VV_WW_label'] = np.where((data['VV'] <= 94) & (data['WW'] < 60), 1, 0)  # 雾的筛选条件\n"
     ]
    },
    {
     "name": "stdout",
     "output_type": "stream",
     "text": [
      "2021 05 20 06 30 6.5\n",
      "2021 05 09 00 00 0.0\n"
     ]
    },
    {
     "name": "stderr",
     "output_type": "stream",
     "text": [
      "/tmp/ipykernel_72874/462569046.py:34: SettingWithCopyWarning: \n",
      "A value is trying to be set on a copy of a slice from a DataFrame.\n",
      "Try using .loc[row_indexer,col_indexer] = value instead\n",
      "\n",
      "See the caveats in the documentation: https://pandas.pydata.org/pandas-docs/stable/user_guide/indexing.html#returning-a-view-versus-a-copy\n",
      "  data['VV_WW_label'] = np.where((data['VV'] <= 94) & (data['WW'] < 60), 1, 0)  # 雾的筛选条件\n"
     ]
    },
    {
     "name": "stdout",
     "output_type": "stream",
     "text": [
      "2021 05 10 06 30 6.5\n",
      "2021 05 31 04 30 4.5\n",
      "2021 05 12 06 00 6.0\n"
     ]
    },
    {
     "name": "stderr",
     "output_type": "stream",
     "text": [
      "/tmp/ipykernel_72874/462569046.py:34: SettingWithCopyWarning: \n",
      "A value is trying to be set on a copy of a slice from a DataFrame.\n",
      "Try using .loc[row_indexer,col_indexer] = value instead\n",
      "\n",
      "See the caveats in the documentation: https://pandas.pydata.org/pandas-docs/stable/user_guide/indexing.html#returning-a-view-versus-a-copy\n",
      "  data['VV_WW_label'] = np.where((data['VV'] <= 94) & (data['WW'] < 60), 1, 0)  # 雾的筛选条件\n"
     ]
    },
    {
     "name": "stdout",
     "output_type": "stream",
     "text": [
      "2021 05 10 03 00 3.0\n"
     ]
    },
    {
     "name": "stderr",
     "output_type": "stream",
     "text": [
      "/tmp/ipykernel_72874/462569046.py:34: SettingWithCopyWarning: \n",
      "A value is trying to be set on a copy of a slice from a DataFrame.\n",
      "Try using .loc[row_indexer,col_indexer] = value instead\n",
      "\n",
      "See the caveats in the documentation: https://pandas.pydata.org/pandas-docs/stable/user_guide/indexing.html#returning-a-view-versus-a-copy\n",
      "  data['VV_WW_label'] = np.where((data['VV'] <= 94) & (data['WW'] < 60), 1, 0)  # 雾的筛选条件\n"
     ]
    },
    {
     "name": "stdout",
     "output_type": "stream",
     "text": [
      "2021 05 31 01 00 1.0\n"
     ]
    },
    {
     "name": "stderr",
     "output_type": "stream",
     "text": [
      "/tmp/ipykernel_72874/462569046.py:34: SettingWithCopyWarning: \n",
      "A value is trying to be set on a copy of a slice from a DataFrame.\n",
      "Try using .loc[row_indexer,col_indexer] = value instead\n",
      "\n",
      "See the caveats in the documentation: https://pandas.pydata.org/pandas-docs/stable/user_guide/indexing.html#returning-a-view-versus-a-copy\n",
      "  data['VV_WW_label'] = np.where((data['VV'] <= 94) & (data['WW'] < 60), 1, 0)  # 雾的筛选条件\n"
     ]
    },
    {
     "name": "stdout",
     "output_type": "stream",
     "text": [
      "2021 05 12 03 30 3.5\n",
      "2021 05 30 07 30 7.5\n",
      "2021 05 20 02 00 2.0\n"
     ]
    },
    {
     "name": "stderr",
     "output_type": "stream",
     "text": [
      "/tmp/ipykernel_72874/462569046.py:34: SettingWithCopyWarning: \n",
      "A value is trying to be set on a copy of a slice from a DataFrame.\n",
      "Try using .loc[row_indexer,col_indexer] = value instead\n",
      "\n",
      "See the caveats in the documentation: https://pandas.pydata.org/pandas-docs/stable/user_guide/indexing.html#returning-a-view-versus-a-copy\n",
      "  data['VV_WW_label'] = np.where((data['VV'] <= 94) & (data['WW'] < 60), 1, 0)  # 雾的筛选条件\n"
     ]
    },
    {
     "name": "stdout",
     "output_type": "stream",
     "text": [
      "2021 05 09 04 30 4.5\n",
      "2021 05 20 07 30 7.5\n",
      "2021 05 30 02 00 2.0\n"
     ]
    },
    {
     "name": "stderr",
     "output_type": "stream",
     "text": [
      "/tmp/ipykernel_72874/462569046.py:34: SettingWithCopyWarning: \n",
      "A value is trying to be set on a copy of a slice from a DataFrame.\n",
      "Try using .loc[row_indexer,col_indexer] = value instead\n",
      "\n",
      "See the caveats in the documentation: https://pandas.pydata.org/pandas-docs/stable/user_guide/indexing.html#returning-a-view-versus-a-copy\n",
      "  data['VV_WW_label'] = np.where((data['VV'] <= 94) & (data['WW'] < 60), 1, 0)  # 雾的筛选条件\n"
     ]
    },
    {
     "name": "stdout",
     "output_type": "stream",
     "text": [
      "2021 05 09 01 00 1.0\n",
      "2021 05 10 07 30 7.5\n",
      "2021 05 12 07 00 7.0\n"
     ]
    },
    {
     "name": "stderr",
     "output_type": "stream",
     "text": [
      "/tmp/ipykernel_72874/462569046.py:34: SettingWithCopyWarning: \n",
      "A value is trying to be set on a copy of a slice from a DataFrame.\n",
      "Try using .loc[row_indexer,col_indexer] = value instead\n",
      "\n",
      "See the caveats in the documentation: https://pandas.pydata.org/pandas-docs/stable/user_guide/indexing.html#returning-a-view-versus-a-copy\n",
      "  data['VV_WW_label'] = np.where((data['VV'] <= 94) & (data['WW'] < 60), 1, 0)  # 雾的筛选条件\n"
     ]
    },
    {
     "name": "stdout",
     "output_type": "stream",
     "text": [
      "2021 05 31 05 30 5.5\n",
      "2021 05 10 02 00 2.0\n"
     ]
    },
    {
     "name": "stderr",
     "output_type": "stream",
     "text": [
      "/tmp/ipykernel_72874/462569046.py:34: SettingWithCopyWarning: \n",
      "A value is trying to be set on a copy of a slice from a DataFrame.\n",
      "Try using .loc[row_indexer,col_indexer] = value instead\n",
      "\n",
      "See the caveats in the documentation: https://pandas.pydata.org/pandas-docs/stable/user_guide/indexing.html#returning-a-view-versus-a-copy\n",
      "  data['VV_WW_label'] = np.where((data['VV'] <= 94) & (data['WW'] < 60), 1, 0)  # 雾的筛选条件\n"
     ]
    },
    {
     "name": "stdout",
     "output_type": "stream",
     "text": [
      "2021 05 12 02 30 2.5\n",
      "2021 05 31 00 00 0.0\n"
     ]
    },
    {
     "name": "stderr",
     "output_type": "stream",
     "text": [
      "/tmp/ipykernel_72874/462569046.py:34: SettingWithCopyWarning: \n",
      "A value is trying to be set on a copy of a slice from a DataFrame.\n",
      "Try using .loc[row_indexer,col_indexer] = value instead\n",
      "\n",
      "See the caveats in the documentation: https://pandas.pydata.org/pandas-docs/stable/user_guide/indexing.html#returning-a-view-versus-a-copy\n",
      "  data['VV_WW_label'] = np.where((data['VV'] <= 94) & (data['WW'] < 60), 1, 0)  # 雾的筛选条件\n"
     ]
    },
    {
     "name": "stdout",
     "output_type": "stream",
     "text": [
      "2021 05 09 07 30 7.5\n",
      "2021 05 20 01 00 1.0\n"
     ]
    },
    {
     "name": "stderr",
     "output_type": "stream",
     "text": [
      "/tmp/ipykernel_72874/462569046.py:34: SettingWithCopyWarning: \n",
      "A value is trying to be set on a copy of a slice from a DataFrame.\n",
      "Try using .loc[row_indexer,col_indexer] = value instead\n",
      "\n",
      "See the caveats in the documentation: https://pandas.pydata.org/pandas-docs/stable/user_guide/indexing.html#returning-a-view-versus-a-copy\n",
      "  data['VV_WW_label'] = np.where((data['VV'] <= 94) & (data['WW'] < 60), 1, 0)  # 雾的筛选条件\n"
     ]
    },
    {
     "name": "stdout",
     "output_type": "stream",
     "text": [
      "2021 05 30 04 30 4.5\n",
      "2021 05 09 02 00 2.0\n",
      "2021 05 30 01 00 1.0\n"
     ]
    },
    {
     "name": "stderr",
     "output_type": "stream",
     "text": [
      "/tmp/ipykernel_72874/462569046.py:34: SettingWithCopyWarning: \n",
      "A value is trying to be set on a copy of a slice from a DataFrame.\n",
      "Try using .loc[row_indexer,col_indexer] = value instead\n",
      "\n",
      "See the caveats in the documentation: https://pandas.pydata.org/pandas-docs/stable/user_guide/indexing.html#returning-a-view-versus-a-copy\n",
      "  data['VV_WW_label'] = np.where((data['VV'] <= 94) & (data['WW'] < 60), 1, 0)  # 雾的筛选条件\n"
     ]
    },
    {
     "name": "stdout",
     "output_type": "stream",
     "text": [
      "2021 05 20 04 30 4.5\n",
      "2021 05 31 06 30 6.5\n",
      "2021 05 12 04 00 4.0\n"
     ]
    },
    {
     "name": "stderr",
     "output_type": "stream",
     "text": [
      "/tmp/ipykernel_72874/462569046.py:34: SettingWithCopyWarning: \n",
      "A value is trying to be set on a copy of a slice from a DataFrame.\n",
      "Try using .loc[row_indexer,col_indexer] = value instead\n",
      "\n",
      "See the caveats in the documentation: https://pandas.pydata.org/pandas-docs/stable/user_guide/indexing.html#returning-a-view-versus-a-copy\n",
      "  data['VV_WW_label'] = np.where((data['VV'] <= 94) & (data['WW'] < 60), 1, 0)  # 雾的筛选条件\n"
     ]
    },
    {
     "name": "stdout",
     "output_type": "stream",
     "text": [
      "2021 05 10 04 30 4.5\n",
      "2021 05 31 03 00 3.0\n"
     ]
    },
    {
     "name": "stderr",
     "output_type": "stream",
     "text": [
      "/tmp/ipykernel_72874/462569046.py:34: SettingWithCopyWarning: \n",
      "A value is trying to be set on a copy of a slice from a DataFrame.\n",
      "Try using .loc[row_indexer,col_indexer] = value instead\n",
      "\n",
      "See the caveats in the documentation: https://pandas.pydata.org/pandas-docs/stable/user_guide/indexing.html#returning-a-view-versus-a-copy\n",
      "  data['VV_WW_label'] = np.where((data['VV'] <= 94) & (data['WW'] < 60), 1, 0)  # 雾的筛选条件\n"
     ]
    },
    {
     "name": "stdout",
     "output_type": "stream",
     "text": [
      "2021 05 12 01 30 1.5\n",
      "2021 05 10 01 00 1.0\n",
      "2021 05 12 08 00 8.0\n",
      "2021 05 09 06 30 6.5\n",
      "2021 05 30 05 30 5.5\n",
      "2021 05 20 00 00 0.0\n"
     ]
    },
    {
     "name": "stderr",
     "output_type": "stream",
     "text": [
      "/tmp/ipykernel_72874/462569046.py:34: SettingWithCopyWarning: \n",
      "A value is trying to be set on a copy of a slice from a DataFrame.\n",
      "Try using .loc[row_indexer,col_indexer] = value instead\n",
      "\n",
      "See the caveats in the documentation: https://pandas.pydata.org/pandas-docs/stable/user_guide/indexing.html#returning-a-view-versus-a-copy\n",
      "  data['VV_WW_label'] = np.where((data['VV'] <= 94) & (data['WW'] < 60), 1, 0)  # 雾的筛选条件\n"
     ]
    },
    {
     "name": "stdout",
     "output_type": "stream",
     "text": [
      "2021 05 09 03 00 3.0\n"
     ]
    },
    {
     "name": "stderr",
     "output_type": "stream",
     "text": [
      "/tmp/ipykernel_72874/462569046.py:34: SettingWithCopyWarning: \n",
      "A value is trying to be set on a copy of a slice from a DataFrame.\n",
      "Try using .loc[row_indexer,col_indexer] = value instead\n",
      "\n",
      "See the caveats in the documentation: https://pandas.pydata.org/pandas-docs/stable/user_guide/indexing.html#returning-a-view-versus-a-copy\n",
      "  data['VV_WW_label'] = np.where((data['VV'] <= 94) & (data['WW'] < 60), 1, 0)  # 雾的筛选条件\n"
     ]
    },
    {
     "name": "stdout",
     "output_type": "stream",
     "text": [
      "2021 05 20 05 30 5.5\n",
      "2021 05 30 00 00 0.0\n",
      "2021 05 12 05 00 5.0\n"
     ]
    },
    {
     "name": "stderr",
     "output_type": "stream",
     "text": [
      "/tmp/ipykernel_72874/462569046.py:34: SettingWithCopyWarning: \n",
      "A value is trying to be set on a copy of a slice from a DataFrame.\n",
      "Try using .loc[row_indexer,col_indexer] = value instead\n",
      "\n",
      "See the caveats in the documentation: https://pandas.pydata.org/pandas-docs/stable/user_guide/indexing.html#returning-a-view-versus-a-copy\n",
      "  data['VV_WW_label'] = np.where((data['VV'] <= 94) & (data['WW'] < 60), 1, 0)  # 雾的筛选条件\n"
     ]
    },
    {
     "name": "stdout",
     "output_type": "stream",
     "text": [
      "2021 05 31 07 30 7.5\n",
      "2021 05 10 05 30 5.5\n",
      "2021 05 12 00 30 0.5\n",
      "2021 05 31 02 00 2.0\n"
     ]
    },
    {
     "name": "stderr",
     "output_type": "stream",
     "text": [
      "/tmp/ipykernel_72874/462569046.py:34: SettingWithCopyWarning: \n",
      "A value is trying to be set on a copy of a slice from a DataFrame.\n",
      "Try using .loc[row_indexer,col_indexer] = value instead\n",
      "\n",
      "See the caveats in the documentation: https://pandas.pydata.org/pandas-docs/stable/user_guide/indexing.html#returning-a-view-versus-a-copy\n",
      "  data['VV_WW_label'] = np.where((data['VV'] <= 94) & (data['WW'] < 60), 1, 0)  # 雾的筛选条件\n"
     ]
    },
    {
     "name": "stdout",
     "output_type": "stream",
     "text": [
      "2021 05 10 00 00 0.0\n"
     ]
    },
    {
     "name": "stderr",
     "output_type": "stream",
     "text": [
      "/tmp/ipykernel_72874/462569046.py:34: SettingWithCopyWarning: \n",
      "A value is trying to be set on a copy of a slice from a DataFrame.\n",
      "Try using .loc[row_indexer,col_indexer] = value instead\n",
      "\n",
      "See the caveats in the documentation: https://pandas.pydata.org/pandas-docs/stable/user_guide/indexing.html#returning-a-view-versus-a-copy\n",
      "  data['VV_WW_label'] = np.where((data['VV'] <= 94) & (data['WW'] < 60), 1, 0)  # 雾的筛选条件\n"
     ]
    },
    {
     "name": "stdout",
     "output_type": "stream",
     "text": [
      "2021 05 20 02 30 2.5\n",
      "2021 05 30 07 00 7.0\n",
      "2021 05 09 04 00 4.0\n"
     ]
    },
    {
     "name": "stderr",
     "output_type": "stream",
     "text": [
      "/tmp/ipykernel_72874/462569046.py:34: SettingWithCopyWarning: \n",
      "A value is trying to be set on a copy of a slice from a DataFrame.\n",
      "Try using .loc[row_indexer,col_indexer] = value instead\n",
      "\n",
      "See the caveats in the documentation: https://pandas.pydata.org/pandas-docs/stable/user_guide/indexing.html#returning-a-view-versus-a-copy\n",
      "  data['VV_WW_label'] = np.where((data['VV'] <= 94) & (data['WW'] < 60), 1, 0)  # 雾的筛选条件\n"
     ]
    },
    {
     "name": "stdout",
     "output_type": "stream",
     "text": [
      "2021 05 30 02 30 2.5\n",
      "2021 05 09 08 00 8.0\n",
      "2021 05 20 07 00 7.0\n"
     ]
    },
    {
     "name": "stderr",
     "output_type": "stream",
     "text": [
      "/tmp/ipykernel_72874/462569046.py:34: SettingWithCopyWarning: \n",
      "A value is trying to be set on a copy of a slice from a DataFrame.\n",
      "Try using .loc[row_indexer,col_indexer] = value instead\n",
      "\n",
      "See the caveats in the documentation: https://pandas.pydata.org/pandas-docs/stable/user_guide/indexing.html#returning-a-view-versus-a-copy\n",
      "  data['VV_WW_label'] = np.where((data['VV'] <= 94) & (data['WW'] < 60), 1, 0)  # 雾的筛选条件\n"
     ]
    },
    {
     "name": "stdout",
     "output_type": "stream",
     "text": [
      "2021 05 09 01 30 1.5\n",
      "2021 05 10 07 00 7.0\n"
     ]
    },
    {
     "name": "stderr",
     "output_type": "stream",
     "text": [
      "/tmp/ipykernel_72874/462569046.py:34: SettingWithCopyWarning: \n",
      "A value is trying to be set on a copy of a slice from a DataFrame.\n",
      "Try using .loc[row_indexer,col_indexer] = value instead\n",
      "\n",
      "See the caveats in the documentation: https://pandas.pydata.org/pandas-docs/stable/user_guide/indexing.html#returning-a-view-versus-a-copy\n",
      "  data['VV_WW_label'] = np.where((data['VV'] <= 94) & (data['WW'] < 60), 1, 0)  # 雾的筛选条件\n"
     ]
    },
    {
     "name": "stdout",
     "output_type": "stream",
     "text": [
      "2021 05 12 07 30 7.5\n",
      "2021 05 31 05 00 5.0\n",
      "2021 05 10 02 30 2.5\n",
      "2021 05 12 02 00 2.0\n"
     ]
    },
    {
     "name": "stderr",
     "output_type": "stream",
     "text": [
      "/tmp/ipykernel_72874/462569046.py:34: SettingWithCopyWarning: \n",
      "A value is trying to be set on a copy of a slice from a DataFrame.\n",
      "Try using .loc[row_indexer,col_indexer] = value instead\n",
      "\n",
      "See the caveats in the documentation: https://pandas.pydata.org/pandas-docs/stable/user_guide/indexing.html#returning-a-view-versus-a-copy\n",
      "  data['VV_WW_label'] = np.where((data['VV'] <= 94) & (data['WW'] < 60), 1, 0)  # 雾的筛选条件\n"
     ]
    },
    {
     "name": "stdout",
     "output_type": "stream",
     "text": [
      "2021 05 31 00 30 0.5\n",
      "2021 05 30 06 00 6.0\n"
     ]
    },
    {
     "name": "stderr",
     "output_type": "stream",
     "text": [
      "/tmp/ipykernel_72874/462569046.py:34: SettingWithCopyWarning: \n",
      "A value is trying to be set on a copy of a slice from a DataFrame.\n",
      "Try using .loc[row_indexer,col_indexer] = value instead\n",
      "\n",
      "See the caveats in the documentation: https://pandas.pydata.org/pandas-docs/stable/user_guide/indexing.html#returning-a-view-versus-a-copy\n",
      "  data['VV_WW_label'] = np.where((data['VV'] <= 94) & (data['WW'] < 60), 1, 0)  # 雾的筛选条件\n"
     ]
    },
    {
     "name": "stdout",
     "output_type": "stream",
     "text": [
      "2021 05 20 03 30 3.5\n",
      "2021 05 09 05 00 5.0\n",
      "2021 05 20 06 00 6.0\n"
     ]
    },
    {
     "name": "stderr",
     "output_type": "stream",
     "text": [
      "/tmp/ipykernel_72874/462569046.py:34: SettingWithCopyWarning: \n",
      "A value is trying to be set on a copy of a slice from a DataFrame.\n",
      "Try using .loc[row_indexer,col_indexer] = value instead\n",
      "\n",
      "See the caveats in the documentation: https://pandas.pydata.org/pandas-docs/stable/user_guide/indexing.html#returning-a-view-versus-a-copy\n",
      "  data['VV_WW_label'] = np.where((data['VV'] <= 94) & (data['WW'] < 60), 1, 0)  # 雾的筛选条件\n"
     ]
    },
    {
     "name": "stdout",
     "output_type": "stream",
     "text": [
      "2021 05 30 03 30 3.5\n",
      "2021 05 09 00 30 0.5\n",
      "2021 05 10 06 00 6.0\n"
     ]
    },
    {
     "name": "stderr",
     "output_type": "stream",
     "text": [
      "/tmp/ipykernel_72874/462569046.py:34: SettingWithCopyWarning: \n",
      "A value is trying to be set on a copy of a slice from a DataFrame.\n",
      "Try using .loc[row_indexer,col_indexer] = value instead\n",
      "\n",
      "See the caveats in the documentation: https://pandas.pydata.org/pandas-docs/stable/user_guide/indexing.html#returning-a-view-versus-a-copy\n",
      "  data['VV_WW_label'] = np.where((data['VV'] <= 94) & (data['WW'] < 60), 1, 0)  # 雾的筛选条件\n"
     ]
    },
    {
     "name": "stdout",
     "output_type": "stream",
     "text": [
      "2021 05 31 04 00 4.0\n"
     ]
    },
    {
     "name": "stderr",
     "output_type": "stream",
     "text": [
      "/tmp/ipykernel_72874/462569046.py:34: SettingWithCopyWarning: \n",
      "A value is trying to be set on a copy of a slice from a DataFrame.\n",
      "Try using .loc[row_indexer,col_indexer] = value instead\n",
      "\n",
      "See the caveats in the documentation: https://pandas.pydata.org/pandas-docs/stable/user_guide/indexing.html#returning-a-view-versus-a-copy\n",
      "  data['VV_WW_label'] = np.where((data['VV'] <= 94) & (data['WW'] < 60), 1, 0)  # 雾的筛选条件\n"
     ]
    },
    {
     "name": "stdout",
     "output_type": "stream",
     "text": [
      "2021 05 12 06 30 6.5\n",
      "2021 05 10 03 30 3.5\n",
      "2021 05 31 08 00 8.0\n"
     ]
    },
    {
     "name": "stderr",
     "output_type": "stream",
     "text": [
      "/tmp/ipykernel_72874/462569046.py:34: SettingWithCopyWarning: \n",
      "A value is trying to be set on a copy of a slice from a DataFrame.\n",
      "Try using .loc[row_indexer,col_indexer] = value instead\n",
      "\n",
      "See the caveats in the documentation: https://pandas.pydata.org/pandas-docs/stable/user_guide/indexing.html#returning-a-view-versus-a-copy\n",
      "  data['VV_WW_label'] = np.where((data['VV'] <= 94) & (data['WW'] < 60), 1, 0)  # 雾的筛选条件\n"
     ]
    },
    {
     "name": "stdout",
     "output_type": "stream",
     "text": [
      "2021 05 31 01 30 1.5\n",
      "2021 05 12 03 00 3.0\n",
      "2021 05 09 06 00 6.0\n"
     ]
    },
    {
     "name": "stderr",
     "output_type": "stream",
     "text": [
      "/tmp/ipykernel_72874/462569046.py:34: SettingWithCopyWarning: \n",
      "A value is trying to be set on a copy of a slice from a DataFrame.\n",
      "Try using .loc[row_indexer,col_indexer] = value instead\n",
      "\n",
      "See the caveats in the documentation: https://pandas.pydata.org/pandas-docs/stable/user_guide/indexing.html#returning-a-view-versus-a-copy\n",
      "  data['VV_WW_label'] = np.where((data['VV'] <= 94) & (data['WW'] < 60), 1, 0)  # 雾的筛选条件\n"
     ]
    },
    {
     "name": "stdout",
     "output_type": "stream",
     "text": [
      "2021 05 20 00 30 0.5\n",
      "2021 05 30 05 00 5.0\n",
      "2021 05 09 03 30 3.5\n",
      "2021 05 30 00 30 0.5\n",
      "2021 05 20 05 00 5.0\n"
     ]
    },
    {
     "name": "stderr",
     "output_type": "stream",
     "text": [
      "/tmp/ipykernel_72874/462569046.py:34: SettingWithCopyWarning: \n",
      "A value is trying to be set on a copy of a slice from a DataFrame.\n",
      "Try using .loc[row_indexer,col_indexer] = value instead\n",
      "\n",
      "See the caveats in the documentation: https://pandas.pydata.org/pandas-docs/stable/user_guide/indexing.html#returning-a-view-versus-a-copy\n",
      "  data['VV_WW_label'] = np.where((data['VV'] <= 94) & (data['WW'] < 60), 1, 0)  # 雾的筛选条件\n"
     ]
    },
    {
     "name": "stdout",
     "output_type": "stream",
     "text": [
      "2021 05 12 05 30 5.5\n",
      "2021 05 31 07 00 7.0\n",
      "2021 05 10 05 00 5.0\n"
     ]
    },
    {
     "name": "stderr",
     "output_type": "stream",
     "text": [
      "/tmp/ipykernel_72874/462569046.py:34: SettingWithCopyWarning: \n",
      "A value is trying to be set on a copy of a slice from a DataFrame.\n",
      "Try using .loc[row_indexer,col_indexer] = value instead\n",
      "\n",
      "See the caveats in the documentation: https://pandas.pydata.org/pandas-docs/stable/user_guide/indexing.html#returning-a-view-versus-a-copy\n",
      "  data['VV_WW_label'] = np.where((data['VV'] <= 94) & (data['WW'] < 60), 1, 0)  # 雾的筛选条件\n"
     ]
    },
    {
     "name": "stdout",
     "output_type": "stream",
     "text": [
      "2021 05 12 00 00 0.0\n"
     ]
    },
    {
     "name": "stderr",
     "output_type": "stream",
     "text": [
      "/tmp/ipykernel_72874/462569046.py:34: SettingWithCopyWarning: \n",
      "A value is trying to be set on a copy of a slice from a DataFrame.\n",
      "Try using .loc[row_indexer,col_indexer] = value instead\n",
      "\n",
      "See the caveats in the documentation: https://pandas.pydata.org/pandas-docs/stable/user_guide/indexing.html#returning-a-view-versus-a-copy\n",
      "  data['VV_WW_label'] = np.where((data['VV'] <= 94) & (data['WW'] < 60), 1, 0)  # 雾的筛选条件\n"
     ]
    },
    {
     "name": "stdout",
     "output_type": "stream",
     "text": [
      "2021 05 31 02 30 2.5\n",
      "2021 05 10 00 30 0.5\n",
      "2021 05 20 08 00 8.0\n"
     ]
    },
    {
     "name": "stderr",
     "output_type": "stream",
     "text": [
      "/tmp/ipykernel_72874/462569046.py:34: SettingWithCopyWarning: \n",
      "A value is trying to be set on a copy of a slice from a DataFrame.\n",
      "Try using .loc[row_indexer,col_indexer] = value instead\n",
      "\n",
      "See the caveats in the documentation: https://pandas.pydata.org/pandas-docs/stable/user_guide/indexing.html#returning-a-view-versus-a-copy\n",
      "  data['VV_WW_label'] = np.where((data['VV'] <= 94) & (data['WW'] < 60), 1, 0)  # 雾的筛选条件\n"
     ]
    },
    {
     "name": "stdout",
     "output_type": "stream",
     "text": [
      "2021 05 09 07 00 7.0\n"
     ]
    },
    {
     "name": "stderr",
     "output_type": "stream",
     "text": [
      "/tmp/ipykernel_72874/462569046.py:34: SettingWithCopyWarning: \n",
      "A value is trying to be set on a copy of a slice from a DataFrame.\n",
      "Try using .loc[row_indexer,col_indexer] = value instead\n",
      "\n",
      "See the caveats in the documentation: https://pandas.pydata.org/pandas-docs/stable/user_guide/indexing.html#returning-a-view-versus-a-copy\n",
      "  data['VV_WW_label'] = np.where((data['VV'] <= 94) & (data['WW'] < 60), 1, 0)  # 雾的筛选条件\n"
     ]
    },
    {
     "name": "stdout",
     "output_type": "stream",
     "text": [
      "2021 05 30 04 00 4.0\n"
     ]
    },
    {
     "name": "stderr",
     "output_type": "stream",
     "text": [
      "/tmp/ipykernel_72874/462569046.py:34: SettingWithCopyWarning: \n",
      "A value is trying to be set on a copy of a slice from a DataFrame.\n",
      "Try using .loc[row_indexer,col_indexer] = value instead\n",
      "\n",
      "See the caveats in the documentation: https://pandas.pydata.org/pandas-docs/stable/user_guide/indexing.html#returning-a-view-versus-a-copy\n",
      "  data['VV_WW_label'] = np.where((data['VV'] <= 94) & (data['WW'] < 60), 1, 0)  # 雾的筛选条件\n"
     ]
    },
    {
     "name": "stdout",
     "output_type": "stream",
     "text": [
      "2021 05 20 01 30 1.5\n",
      "2021 05 09 02 30 2.5\n",
      "2021 05 30 08 00 8.0\n",
      "2021 05 20 04 00 4.0\n"
     ]
    },
    {
     "name": "stderr",
     "output_type": "stream",
     "text": [
      "/tmp/ipykernel_72874/462569046.py:34: SettingWithCopyWarning: \n",
      "A value is trying to be set on a copy of a slice from a DataFrame.\n",
      "Try using .loc[row_indexer,col_indexer] = value instead\n",
      "\n",
      "See the caveats in the documentation: https://pandas.pydata.org/pandas-docs/stable/user_guide/indexing.html#returning-a-view-versus-a-copy\n",
      "  data['VV_WW_label'] = np.where((data['VV'] <= 94) & (data['WW'] < 60), 1, 0)  # 雾的筛选条件\n"
     ]
    },
    {
     "name": "stdout",
     "output_type": "stream",
     "text": [
      "2021 05 30 01 30 1.5\n",
      "2021 05 31 06 00 6.0\n"
     ]
    },
    {
     "name": "stderr",
     "output_type": "stream",
     "text": [
      "/tmp/ipykernel_72874/462569046.py:34: SettingWithCopyWarning: \n",
      "A value is trying to be set on a copy of a slice from a DataFrame.\n",
      "Try using .loc[row_indexer,col_indexer] = value instead\n",
      "\n",
      "See the caveats in the documentation: https://pandas.pydata.org/pandas-docs/stable/user_guide/indexing.html#returning-a-view-versus-a-copy\n",
      "  data['VV_WW_label'] = np.where((data['VV'] <= 94) & (data['WW'] < 60), 1, 0)  # 雾的筛选条件\n"
     ]
    },
    {
     "name": "stdout",
     "output_type": "stream",
     "text": [
      "2021 05 12 04 30 4.5\n",
      "2021 05 10 04 00 4.0\n"
     ]
    },
    {
     "name": "stderr",
     "output_type": "stream",
     "text": [
      "/tmp/ipykernel_72874/462569046.py:34: SettingWithCopyWarning: \n",
      "A value is trying to be set on a copy of a slice from a DataFrame.\n",
      "Try using .loc[row_indexer,col_indexer] = value instead\n",
      "\n",
      "See the caveats in the documentation: https://pandas.pydata.org/pandas-docs/stable/user_guide/indexing.html#returning-a-view-versus-a-copy\n",
      "  data['VV_WW_label'] = np.where((data['VV'] <= 94) & (data['WW'] < 60), 1, 0)  # 雾的筛选条件\n"
     ]
    },
    {
     "name": "stdout",
     "output_type": "stream",
     "text": [
      "2021 05 10 08 00 8.0\n",
      "2021 05 31 03 30 3.5\n",
      "2021 05 12 01 00 1.0\n",
      "2021 05 10 01 30 1.5\n"
     ]
    }
   ],
   "source": [
    "for id in ids:\n",
    "    year = id[:4]\n",
    "    month = id[4:6]\n",
    "    day = id[6:8]\n",
    "    hour = id[9:11]\n",
    "    minute = id[11:13]\n",
    "    \n",
    "    if minute == '30':\n",
    "        hm = str(float(hour)+0.5)\n",
    "    else:\n",
    "        hm = str(float(hour))\n",
    "    \n",
    "    print(year, month, day, hour, minute, hm)\n",
    "        \n",
    "    time = id.split('_')[0]\n",
    "    \n",
    "    for gz in gzs:\n",
    "        gz_begin = gz.split('_')[-1][:8]\n",
    "        gz_end = gz.split('_')[-1][9:17]\n",
    "        \n",
    "        if int(time)>=int(gz_begin) and int(time)<=int(gz_end):\n",
    "            df = pd.read_csv(icoads_path+gz)\n",
    "            \n",
    "            # 定义筛选条件\n",
    "            lat_min, lat_max = 28.7, 41.5  \n",
    "            lon_min, lon_max = 114.0, 126.8   \n",
    "            \n",
    "            # 筛选数据\n",
    "            filtered_df = df[(df['YR']==int(year)) & (df['MO']==int(month)) & (df['DY']==int(day)) & (df['HR']==float(hm)) & (df['LON']>=lon_min) & (df['LON']<=lon_max) & (df['LAT']>=lat_min) & (df['LAT']<=lat_max)]\n",
    "            # 显示筛选后的数据\n",
    "            # print(filtered_df)\n",
    "            \n",
    "            data = filtered_df.dropna(subset=['VV', 'WW'])\n",
    "            data['VV_WW_label'] = np.where((data['VV'] <= 94) & (data['WW'] < 60), 1, 0)  # 雾的筛选条件\n",
    "            # print(data)\n",
    "            \n",
    "            with open('filtered_icoadsdata_val2021.txt', 'a') as file:\n",
    "                # 写入每一行数据\n",
    "                for index, row in data.iterrows():\n",
    "                    file.write(f\"{row['YR']}\\t{row['MO']}\\t{row['DY']}\\t{row['HR']}\\t{row['LON']}\\t{row['LAT']}\\t{row['VV']}\\t{row['WW']}\\t{row['VV_WW_label']}\\n\")\n"
   ]
  },
  {
   "cell_type": "code",
   "execution_count": null,
   "metadata": {},
   "outputs": [],
   "source": []
  },
  {
   "cell_type": "code",
   "execution_count": null,
   "metadata": {},
   "outputs": [],
   "source": []
  }
 ],
 "metadata": {
  "kernelspec": {
   "display_name": "seafog_h8_2",
   "language": "python",
   "name": "python3"
  },
  "language_info": {
   "codemirror_mode": {
    "name": "ipython",
    "version": 3
   },
   "file_extension": ".py",
   "mimetype": "text/x-python",
   "name": "python",
   "nbconvert_exporter": "python",
   "pygments_lexer": "ipython3",
   "version": "3.8.13"
  }
 },
 "nbformat": 4,
 "nbformat_minor": 2
}
